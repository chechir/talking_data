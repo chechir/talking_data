{
 "cells": [
  {
   "cell_type": "markdown",
   "metadata": {},
   "source": [
    "# TalkingData Mobile User Demographics - 3rd place solution"
   ]
  },
  {
   "cell_type": "markdown",
   "metadata": {},
   "source": [
    "In this competition, Kagglers are challenged to build a model predicting users’ demographic characteristics based on their app usage, geolocation, and mobile device properties. Doing so will help millions of developers and brand advertisers around the world pursue data-driven marketing efforts which are relevant to their users and catered to their preferences.\n",
    "\n",
    "https://www.kaggle.com/c/talkingdata-mobile-user-demographics"
   ]
  },
  {
   "cell_type": "markdown",
   "metadata": {},
   "source": [
    "## 1.- Overview of the data"
   ]
  },
  {
   "cell_type": "markdown",
   "metadata": {},
   "source": [
    "### gender_age_train.csv, gender_age_test.csv -- the training and test set\n",
    "\n",
    "Variable to predict: Group\n"
   ]
  },
  {
   "cell_type": "code",
   "execution_count": 46,
   "metadata": {},
   "outputs": [],
   "source": [
    "import os\n",
    "import pandas as pd\n",
    "import numpy as np\n",
    "from matplotlib import pyplot as plt\n",
    "plt.rcParams['figure.figsize'] = [13, 7]"
   ]
  },
  {
   "cell_type": "code",
   "execution_count": 47,
   "metadata": {},
   "outputs": [
    {
     "name": "stdout",
     "output_type": "stream",
     "text": [
      "train shape: (74645, 3), test shape: (112071, 0)\n",
      "                     gender  age   group\n",
      "device_id                               \n",
      "-8076087639492063270      M   35  M32-38\n",
      "-2897161552818060146      M   35  M32-38\n",
      "-8260683887967679142      M   35  M32-38\n",
      "-4938849341048082022      M   30  M29-31\n",
      " 245133531816851882       M   30  M29-31\n",
      "-1297074871525174196      F   24  F24-26\n",
      " 236877999787307864       M   36  M32-38\n",
      "-8098239495777311881      M   38  M32-38\n",
      " 176515041953473526       M   33  M32-38\n",
      " 1596610250680140042      F   36  F33-42\n"
     ]
    },
    {
     "data": {
      "text/plain": [
       "<matplotlib.axes._subplots.AxesSubplot at 0x7fb9ed13c390>"
      ]
     },
     "execution_count": 47,
     "metadata": {},
     "output_type": "execute_result"
    },
    {
     "data": {
      "image/png": "[encoded data removed]",
      "text/plain": [
       "<Figure size 432x288 with 1 Axes>"
      ]
     },
     "metadata": {
      "needs_background": "light"
     },
     "output_type": "display_data"
    }
   ],
   "source": [
    "datadir = '../input'\n",
    "gatrain = pd.read_csv(os.path.join(datadir,'gender_age_train.csv'), index_col='device_id')\n",
    "gatest = pd.read_csv(os.path.join(datadir,'gender_age_test.csv'), index_col = 'device_id')\n",
    "print('train shape: {}, test shape: {}'.format(gatrain.shape, gatest.shape))\n",
    "print(gatrain.head(10))\n",
    "gatrain['group'].value_counts().plot.bar()\n"
   ]
  },
  {
   "cell_type": "markdown",
   "metadata": {},
   "source": [
    "### Brands and model"
   ]
  },
  {
   "cell_type": "code",
   "execution_count": 48,
   "metadata": {},
   "outputs": [
    {
     "name": "stdout",
     "output_type": "stream",
     "text": [
      "(186716, 2)\n"
     ]
    },
    {
     "data": {
      "text/html": [
       "<div>\n",
       "<style scoped>\n",
       "    .dataframe tbody tr th:only-of-type {\n",
       "        vertical-align: middle;\n",
       "    }\n",
       "\n",
       "    .dataframe tbody tr th {\n",
       "        vertical-align: top;\n",
       "    }\n",
       "\n",
       "    .dataframe thead th {\n",
       "        text-align: right;\n",
       "    }\n",
       "</style>\n",
       "<table border=\"1\" class=\"dataframe\">\n",
       "  <thead>\n",
       "    <tr style=\"text-align: right;\">\n",
       "      <th></th>\n",
       "      <th>phone_brand</th>\n",
       "      <th>device_model</th>\n",
       "    </tr>\n",
       "    <tr>\n",
       "      <th>device_id</th>\n",
       "      <th></th>\n",
       "      <th></th>\n",
       "    </tr>\n",
       "  </thead>\n",
       "  <tbody>\n",
       "    <tr>\n",
       "      <th>-8890648629457979026</th>\n",
       "      <td>小米</td>\n",
       "      <td>红米</td>\n",
       "    </tr>\n",
       "    <tr>\n",
       "      <th>1277779817574759137</th>\n",
       "      <td>小米</td>\n",
       "      <td>MI 2</td>\n",
       "    </tr>\n",
       "    <tr>\n",
       "      <th>5137427614288105724</th>\n",
       "      <td>三星</td>\n",
       "      <td>Galaxy S4</td>\n",
       "    </tr>\n",
       "    <tr>\n",
       "      <th>3669464369358936369</th>\n",
       "      <td>SUGAR</td>\n",
       "      <td>时尚手机</td>\n",
       "    </tr>\n",
       "    <tr>\n",
       "      <th>-5019277647504317457</th>\n",
       "      <td>三星</td>\n",
       "      <td>Galaxy Note 2</td>\n",
       "    </tr>\n",
       "    <tr>\n",
       "      <th>3238009352149731868</th>\n",
       "      <td>华为</td>\n",
       "      <td>Mate</td>\n",
       "    </tr>\n",
       "    <tr>\n",
       "      <th>-3883532755183027260</th>\n",
       "      <td>小米</td>\n",
       "      <td>MI 2S</td>\n",
       "    </tr>\n",
       "    <tr>\n",
       "      <th>-2972199645857147708</th>\n",
       "      <td>华为</td>\n",
       "      <td>G610S</td>\n",
       "    </tr>\n",
       "    <tr>\n",
       "      <th>-5827952925479472594</th>\n",
       "      <td>小米</td>\n",
       "      <td>MI One Plus</td>\n",
       "    </tr>\n",
       "    <tr>\n",
       "      <th>-8262508968076336275</th>\n",
       "      <td>vivo</td>\n",
       "      <td>S7I</td>\n",
       "    </tr>\n",
       "  </tbody>\n",
       "</table>\n",
       "</div>"
      ],
      "text/plain": [
       "                     phone_brand   device_model\n",
       "device_id                                      \n",
       "-8890648629457979026          小米             红米\n",
       " 1277779817574759137          小米           MI 2\n",
       " 5137427614288105724          三星      Galaxy S4\n",
       " 3669464369358936369       SUGAR           时尚手机\n",
       "-5019277647504317457          三星  Galaxy Note 2\n",
       " 3238009352149731868          华为           Mate\n",
       "-3883532755183027260          小米          MI 2S\n",
       "-2972199645857147708          华为          G610S\n",
       "-5827952925479472594          小米    MI One Plus\n",
       "-8262508968076336275        vivo            S7I"
      ]
     },
     "execution_count": 48,
     "metadata": {},
     "output_type": "execute_result"
    }
   ],
   "source": [
    "phone = pd.read_csv(os.path.join(datadir,'phone_brand_device_model.csv'))\n",
    "phone = phone.drop_duplicates('device_id',keep='first').set_index('device_id')\n",
    "print(phone.shape)\n",
    "phone.head(10)"
   ]
  },
  {
   "cell_type": "markdown",
   "metadata": {},
   "source": [
    "### Events, AppEvents, and labels"
   ]
  },
  {
   "cell_type": "code",
   "execution_count": 49,
   "metadata": {},
   "outputs": [
    {
     "name": "stderr",
     "output_type": "stream",
     "text": [
      "/home/dragon/kaggle/talking_data/brussels/venv/lib/python3.6/site-packages/numpy/lib/arraysetops.py:522: FutureWarning: elementwise comparison failed; returning scalar instead, but in the future will perform elementwise comparison\n",
      "  mask |= (ar1 == a)\n"
     ]
    },
    {
     "name": "stdout",
     "output_type": "stream",
     "text": [
      "events shape: (3252950, 4), appevents shape: (32473067, 3), applabels shape: (459943, 2), labels shape: (459943, 2)\n"
     ]
    }
   ],
   "source": [
    "events = pd.read_csv(os.path.join(datadir,'events.csv'),  parse_dates=['timestamp'], index_col='event_id')\n",
    "appevents = pd.read_csv(os.path.join(datadir,'app_events.csv'), usecols=['event_id','app_id','is_active'], dtype={'is_active':bool})\n",
    "applabels = pd.read_csv(os.path.join(datadir,'app_labels.csv'))\n",
    "labelcategories = pd.read_csv(os.path.join(datadir, 'label_categories.csv'))\n",
    "print('events shape: {}, appevents shape: {}, applabels shape: {}, labels shape: {}'.format(events.shape, appevents.shape, applabels.shape, applabels.shape))"
   ]
  },
  {
   "cell_type": "code",
   "execution_count": 50,
   "metadata": {},
   "outputs": [
    {
     "data": {
      "text/html": [
       "<div>\n",
       "<style scoped>\n",
       "    .dataframe tbody tr th:only-of-type {\n",
       "        vertical-align: middle;\n",
       "    }\n",
       "\n",
       "    .dataframe tbody tr th {\n",
       "        vertical-align: top;\n",
       "    }\n",
       "\n",
       "    .dataframe thead th {\n",
       "        text-align: right;\n",
       "    }\n",
       "</style>\n",
       "<table border=\"1\" class=\"dataframe\">\n",
       "  <thead>\n",
       "    <tr style=\"text-align: right;\">\n",
       "      <th></th>\n",
       "      <th>device_id</th>\n",
       "      <th>timestamp</th>\n",
       "      <th>longitude</th>\n",
       "      <th>latitude</th>\n",
       "    </tr>\n",
       "    <tr>\n",
       "      <th>event_id</th>\n",
       "      <th></th>\n",
       "      <th></th>\n",
       "      <th></th>\n",
       "      <th></th>\n",
       "    </tr>\n",
       "  </thead>\n",
       "  <tbody>\n",
       "    <tr>\n",
       "      <th>2</th>\n",
       "      <td>-6401643145415154744</td>\n",
       "      <td>2016-05-01 00:54:12</td>\n",
       "      <td>103.65</td>\n",
       "      <td>30.97</td>\n",
       "    </tr>\n",
       "    <tr>\n",
       "      <th>17185</th>\n",
       "      <td>-6401643145415154744</td>\n",
       "      <td>2016-05-01 16:04:52</td>\n",
       "      <td>103.65</td>\n",
       "      <td>30.97</td>\n",
       "    </tr>\n",
       "    <tr>\n",
       "      <th>17187</th>\n",
       "      <td>-6401643145415154744</td>\n",
       "      <td>2016-05-01 16:09:45</td>\n",
       "      <td>103.65</td>\n",
       "      <td>30.97</td>\n",
       "    </tr>\n",
       "    <tr>\n",
       "      <th>41213</th>\n",
       "      <td>-6401643145415154744</td>\n",
       "      <td>2016-05-01 11:25:59</td>\n",
       "      <td>103.65</td>\n",
       "      <td>30.97</td>\n",
       "    </tr>\n",
       "    <tr>\n",
       "      <th>65269</th>\n",
       "      <td>-6401643145415154744</td>\n",
       "      <td>2016-05-01 00:51:34</td>\n",
       "      <td>103.65</td>\n",
       "      <td>30.97</td>\n",
       "    </tr>\n",
       "    <tr>\n",
       "      <th>65516</th>\n",
       "      <td>-6401643145415154744</td>\n",
       "      <td>2016-05-02 00:11:17</td>\n",
       "      <td>103.64</td>\n",
       "      <td>30.97</td>\n",
       "    </tr>\n",
       "    <tr>\n",
       "      <th>150832</th>\n",
       "      <td>-6401643145415154744</td>\n",
       "      <td>2016-05-02 13:32:58</td>\n",
       "      <td>103.64</td>\n",
       "      <td>30.97</td>\n",
       "    </tr>\n",
       "    <tr>\n",
       "      <th>154568</th>\n",
       "      <td>-6401643145415154744</td>\n",
       "      <td>2016-05-01 16:06:22</td>\n",
       "      <td>103.65</td>\n",
       "      <td>30.97</td>\n",
       "    </tr>\n",
       "    <tr>\n",
       "      <th>212044</th>\n",
       "      <td>-6401643145415154744</td>\n",
       "      <td>2016-05-01 22:17:00</td>\n",
       "      <td>103.62</td>\n",
       "      <td>30.99</td>\n",
       "    </tr>\n",
       "    <tr>\n",
       "      <th>240015</th>\n",
       "      <td>-6401643145415154744</td>\n",
       "      <td>2016-05-02 00:12:42</td>\n",
       "      <td>103.64</td>\n",
       "      <td>30.97</td>\n",
       "    </tr>\n",
       "  </tbody>\n",
       "</table>\n",
       "</div>"
      ],
      "text/plain": [
       "                    device_id           timestamp  longitude  latitude\n",
       "event_id                                                              \n",
       "2        -6401643145415154744 2016-05-01 00:54:12     103.65     30.97\n",
       "17185    -6401643145415154744 2016-05-01 16:04:52     103.65     30.97\n",
       "17187    -6401643145415154744 2016-05-01 16:09:45     103.65     30.97\n",
       "41213    -6401643145415154744 2016-05-01 11:25:59     103.65     30.97\n",
       "65269    -6401643145415154744 2016-05-01 00:51:34     103.65     30.97\n",
       "65516    -6401643145415154744 2016-05-02 00:11:17     103.64     30.97\n",
       "150832   -6401643145415154744 2016-05-02 13:32:58     103.64     30.97\n",
       "154568   -6401643145415154744 2016-05-01 16:06:22     103.65     30.97\n",
       "212044   -6401643145415154744 2016-05-01 22:17:00     103.62     30.99\n",
       "240015   -6401643145415154744 2016-05-02 00:12:42     103.64     30.97"
      ]
     },
     "execution_count": 50,
     "metadata": {},
     "output_type": "execute_result"
    }
   ],
   "source": [
    "events[events['device_id']==-6401643145415154744].head(10)  # One device, many events"
   ]
  },
  {
   "cell_type": "code",
   "execution_count": 51,
   "metadata": {},
   "outputs": [
    {
     "data": {
      "text/html": [
       "<div>\n",
       "<style scoped>\n",
       "    .dataframe tbody tr th:only-of-type {\n",
       "        vertical-align: middle;\n",
       "    }\n",
       "\n",
       "    .dataframe tbody tr th {\n",
       "        vertical-align: top;\n",
       "    }\n",
       "\n",
       "    .dataframe thead th {\n",
       "        text-align: right;\n",
       "    }\n",
       "</style>\n",
       "<table border=\"1\" class=\"dataframe\">\n",
       "  <thead>\n",
       "    <tr style=\"text-align: right;\">\n",
       "      <th></th>\n",
       "      <th>event_id</th>\n",
       "      <th>app_id</th>\n",
       "      <th>is_active</th>\n",
       "    </tr>\n",
       "  </thead>\n",
       "  <tbody>\n",
       "    <tr>\n",
       "      <th>0</th>\n",
       "      <td>2</td>\n",
       "      <td>5927333115845830913</td>\n",
       "      <td>True</td>\n",
       "    </tr>\n",
       "    <tr>\n",
       "      <th>1</th>\n",
       "      <td>2</td>\n",
       "      <td>-5720078949152207372</td>\n",
       "      <td>False</td>\n",
       "    </tr>\n",
       "    <tr>\n",
       "      <th>2</th>\n",
       "      <td>2</td>\n",
       "      <td>-1633887856876571208</td>\n",
       "      <td>False</td>\n",
       "    </tr>\n",
       "    <tr>\n",
       "      <th>3</th>\n",
       "      <td>2</td>\n",
       "      <td>-653184325010919369</td>\n",
       "      <td>True</td>\n",
       "    </tr>\n",
       "    <tr>\n",
       "      <th>4</th>\n",
       "      <td>2</td>\n",
       "      <td>8693964245073640147</td>\n",
       "      <td>True</td>\n",
       "    </tr>\n",
       "    <tr>\n",
       "      <th>5</th>\n",
       "      <td>2</td>\n",
       "      <td>4775896950989639373</td>\n",
       "      <td>True</td>\n",
       "    </tr>\n",
       "    <tr>\n",
       "      <th>6</th>\n",
       "      <td>2</td>\n",
       "      <td>-8022267440849930066</td>\n",
       "      <td>False</td>\n",
       "    </tr>\n",
       "    <tr>\n",
       "      <th>7</th>\n",
       "      <td>2</td>\n",
       "      <td>9112463267739110219</td>\n",
       "      <td>False</td>\n",
       "    </tr>\n",
       "    <tr>\n",
       "      <th>8</th>\n",
       "      <td>2</td>\n",
       "      <td>-3725672010020973973</td>\n",
       "      <td>False</td>\n",
       "    </tr>\n",
       "    <tr>\n",
       "      <th>9</th>\n",
       "      <td>2</td>\n",
       "      <td>7167114343576723123</td>\n",
       "      <td>True</td>\n",
       "    </tr>\n",
       "    <tr>\n",
       "      <th>10</th>\n",
       "      <td>2</td>\n",
       "      <td>487766649788038994</td>\n",
       "      <td>False</td>\n",
       "    </tr>\n",
       "    <tr>\n",
       "      <th>11</th>\n",
       "      <td>2</td>\n",
       "      <td>7460082553072507347</td>\n",
       "      <td>False</td>\n",
       "    </tr>\n",
       "    <tr>\n",
       "      <th>12</th>\n",
       "      <td>2</td>\n",
       "      <td>628020936226491308</td>\n",
       "      <td>False</td>\n",
       "    </tr>\n",
       "    <tr>\n",
       "      <th>13</th>\n",
       "      <td>2</td>\n",
       "      <td>701031210314548601</td>\n",
       "      <td>False</td>\n",
       "    </tr>\n",
       "    <tr>\n",
       "      <th>14</th>\n",
       "      <td>2</td>\n",
       "      <td>-1758857579862594461</td>\n",
       "      <td>False</td>\n",
       "    </tr>\n",
       "    <tr>\n",
       "      <th>15</th>\n",
       "      <td>2</td>\n",
       "      <td>4348659952760821294</td>\n",
       "      <td>False</td>\n",
       "    </tr>\n",
       "    <tr>\n",
       "      <th>16</th>\n",
       "      <td>2</td>\n",
       "      <td>-8942695423876075857</td>\n",
       "      <td>False</td>\n",
       "    </tr>\n",
       "    <tr>\n",
       "      <th>17</th>\n",
       "      <td>2</td>\n",
       "      <td>5497109940653330488</td>\n",
       "      <td>True</td>\n",
       "    </tr>\n",
       "    <tr>\n",
       "      <th>18</th>\n",
       "      <td>2</td>\n",
       "      <td>3717049149426646122</td>\n",
       "      <td>False</td>\n",
       "    </tr>\n",
       "  </tbody>\n",
       "</table>\n",
       "</div>"
      ],
      "text/plain": [
       "    event_id               app_id  is_active\n",
       "0          2  5927333115845830913       True\n",
       "1          2 -5720078949152207372      False\n",
       "2          2 -1633887856876571208      False\n",
       "3          2  -653184325010919369       True\n",
       "4          2  8693964245073640147       True\n",
       "5          2  4775896950989639373       True\n",
       "6          2 -8022267440849930066      False\n",
       "7          2  9112463267739110219      False\n",
       "8          2 -3725672010020973973      False\n",
       "9          2  7167114343576723123       True\n",
       "10         2   487766649788038994      False\n",
       "11         2  7460082553072507347      False\n",
       "12         2   628020936226491308      False\n",
       "13         2   701031210314548601      False\n",
       "14         2 -1758857579862594461      False\n",
       "15         2  4348659952760821294      False\n",
       "16         2 -8942695423876075857      False\n",
       "17         2  5497109940653330488       True\n",
       "18         2  3717049149426646122      False"
      ]
     },
     "execution_count": 51,
     "metadata": {},
     "output_type": "execute_result"
    }
   ],
   "source": [
    "appevents[appevents['event_id'] == 2]  # When an event happened, what apps were installed in the device?"
   ]
  },
  {
   "cell_type": "code",
   "execution_count": 52,
   "metadata": {},
   "outputs": [
    {
     "data": {
      "text/html": [
       "<div>\n",
       "<style scoped>\n",
       "    .dataframe tbody tr th:only-of-type {\n",
       "        vertical-align: middle;\n",
       "    }\n",
       "\n",
       "    .dataframe tbody tr th {\n",
       "        vertical-align: top;\n",
       "    }\n",
       "\n",
       "    .dataframe thead th {\n",
       "        text-align: right;\n",
       "    }\n",
       "</style>\n",
       "<table border=\"1\" class=\"dataframe\">\n",
       "  <thead>\n",
       "    <tr style=\"text-align: right;\">\n",
       "      <th></th>\n",
       "      <th>app_id</th>\n",
       "      <th>label_id</th>\n",
       "    </tr>\n",
       "  </thead>\n",
       "  <tbody>\n",
       "    <tr>\n",
       "      <th>0</th>\n",
       "      <td>7324884708820027918</td>\n",
       "      <td>251</td>\n",
       "    </tr>\n",
       "    <tr>\n",
       "      <th>1</th>\n",
       "      <td>-4494216993218550286</td>\n",
       "      <td>251</td>\n",
       "    </tr>\n",
       "    <tr>\n",
       "      <th>2</th>\n",
       "      <td>6058196446775239644</td>\n",
       "      <td>406</td>\n",
       "    </tr>\n",
       "    <tr>\n",
       "      <th>3</th>\n",
       "      <td>6058196446775239644</td>\n",
       "      <td>407</td>\n",
       "    </tr>\n",
       "    <tr>\n",
       "      <th>4</th>\n",
       "      <td>8694625920731541625</td>\n",
       "      <td>406</td>\n",
       "    </tr>\n",
       "    <tr>\n",
       "      <th>5</th>\n",
       "      <td>8694625920731541625</td>\n",
       "      <td>407</td>\n",
       "    </tr>\n",
       "    <tr>\n",
       "      <th>6</th>\n",
       "      <td>1977658975649789753</td>\n",
       "      <td>406</td>\n",
       "    </tr>\n",
       "    <tr>\n",
       "      <th>7</th>\n",
       "      <td>1977658975649789753</td>\n",
       "      <td>407</td>\n",
       "    </tr>\n",
       "    <tr>\n",
       "      <th>8</th>\n",
       "      <td>7311663864768030840</td>\n",
       "      <td>256</td>\n",
       "    </tr>\n",
       "    <tr>\n",
       "      <th>9</th>\n",
       "      <td>5902120154267999338</td>\n",
       "      <td>256</td>\n",
       "    </tr>\n",
       "  </tbody>\n",
       "</table>\n",
       "</div>"
      ],
      "text/plain": [
       "                app_id  label_id\n",
       "0  7324884708820027918       251\n",
       "1 -4494216993218550286       251\n",
       "2  6058196446775239644       406\n",
       "3  6058196446775239644       407\n",
       "4  8694625920731541625       406\n",
       "5  8694625920731541625       407\n",
       "6  1977658975649789753       406\n",
       "7  1977658975649789753       407\n",
       "8  7311663864768030840       256\n",
       "9  5902120154267999338       256"
      ]
     },
     "execution_count": 52,
     "metadata": {},
     "output_type": "execute_result"
    }
   ],
   "source": [
    "applabels.head(10)  # apps have labels"
   ]
  },
  {
   "cell_type": "code",
   "execution_count": 53,
   "metadata": {},
   "outputs": [
    {
     "data": {
      "text/html": [
       "<div>\n",
       "<style scoped>\n",
       "    .dataframe tbody tr th:only-of-type {\n",
       "        vertical-align: middle;\n",
       "    }\n",
       "\n",
       "    .dataframe tbody tr th {\n",
       "        vertical-align: top;\n",
       "    }\n",
       "\n",
       "    .dataframe thead th {\n",
       "        text-align: right;\n",
       "    }\n",
       "</style>\n",
       "<table border=\"1\" class=\"dataframe\">\n",
       "  <thead>\n",
       "    <tr style=\"text-align: right;\">\n",
       "      <th></th>\n",
       "      <th>label_id</th>\n",
       "      <th>category</th>\n",
       "    </tr>\n",
       "  </thead>\n",
       "  <tbody>\n",
       "    <tr>\n",
       "      <th>0</th>\n",
       "      <td>1</td>\n",
       "      <td>NaN</td>\n",
       "    </tr>\n",
       "    <tr>\n",
       "      <th>1</th>\n",
       "      <td>2</td>\n",
       "      <td>game-game type</td>\n",
       "    </tr>\n",
       "    <tr>\n",
       "      <th>2</th>\n",
       "      <td>3</td>\n",
       "      <td>game-Game themes</td>\n",
       "    </tr>\n",
       "    <tr>\n",
       "      <th>3</th>\n",
       "      <td>4</td>\n",
       "      <td>game-Art Style</td>\n",
       "    </tr>\n",
       "    <tr>\n",
       "      <th>4</th>\n",
       "      <td>5</td>\n",
       "      <td>game-Leisure time</td>\n",
       "    </tr>\n",
       "    <tr>\n",
       "      <th>5</th>\n",
       "      <td>6</td>\n",
       "      <td>game-Cutting things</td>\n",
       "    </tr>\n",
       "    <tr>\n",
       "      <th>6</th>\n",
       "      <td>7</td>\n",
       "      <td>game-Finding fault</td>\n",
       "    </tr>\n",
       "    <tr>\n",
       "      <th>7</th>\n",
       "      <td>8</td>\n",
       "      <td>game-stress reliever</td>\n",
       "    </tr>\n",
       "    <tr>\n",
       "      <th>8</th>\n",
       "      <td>9</td>\n",
       "      <td>game-pet</td>\n",
       "    </tr>\n",
       "    <tr>\n",
       "      <th>9</th>\n",
       "      <td>10</td>\n",
       "      <td>game-Answer</td>\n",
       "    </tr>\n",
       "  </tbody>\n",
       "</table>\n",
       "</div>"
      ],
      "text/plain": [
       "   label_id              category\n",
       "0         1                   NaN\n",
       "1         2        game-game type\n",
       "2         3      game-Game themes\n",
       "3         4        game-Art Style\n",
       "4         5     game-Leisure time\n",
       "5         6   game-Cutting things\n",
       "6         7    game-Finding fault\n",
       "7         8  game-stress reliever\n",
       "8         9              game-pet\n",
       "9        10           game-Answer"
      ]
     },
     "execution_count": 53,
     "metadata": {},
     "output_type": "execute_result"
    }
   ],
   "source": [
    "labelcategories.head(10)  # labels are not very well normalised. They werent very useful for us"
   ]
  },
  {
   "cell_type": "markdown",
   "metadata": {},
   "source": [
    "### Proportion of devices with data in events"
   ]
  },
  {
   "cell_type": "code",
   "execution_count": 54,
   "metadata": {},
   "outputs": [
    {
     "name": "stdout",
     "output_type": "stream",
     "text": [
      "Proportion of devices with events: 0.3122647196731194\n"
     ]
    },
    {
     "data": {
      "image/png": "[encoded data removed]",
      "text/plain": [
       "<Figure size 432x288 with 1 Axes>"
      ]
     },
     "metadata": {},
     "output_type": "display_data"
    }
   ],
   "source": [
    "has_events = np.in1d(gatrain.index.values, events['device_id'].values)\n",
    "pd.Series(has_events).value_counts().plot.pie()\n",
    "print('Proportion of devices with events: {}'.format(has_events.mean()))"
   ]
  },
  {
   "cell_type": "markdown",
   "metadata": {},
   "source": [
    "**KEY: We used different models for these 2 groups**"
   ]
  },
  {
   "cell_type": "markdown",
   "metadata": {},
   "source": [
    "## 2.- Feature Engineering"
   ]
  },
  {
   "cell_type": "markdown",
   "metadata": {},
   "source": [
    "### One Hot Encoding with sparse matrices"
   ]
  },
  {
   "cell_type": "code",
   "execution_count": 55,
   "metadata": {},
   "outputs": [],
   "source": [
    "from scipy.sparse import csr_matrix, hstack\n",
    "from sklearn.preprocessing import LabelEncoder\n",
    "import numpy as np"
   ]
  },
  {
   "cell_type": "code",
   "execution_count": 56,
   "metadata": {},
   "outputs": [],
   "source": [
    "def get_sparse_data(train, test, col):\n",
    "    \"\"\" A sparse matrix of features can be constructed using the csr_matrix constructor:\n",
    "        csr_matrix((data, (row_ind, col_ind)), [shape=(M, N)])\n",
    "        where \"data\", \"row_ind\" and \"col_ind\" satisfy the\n",
    "        relationship \"a[row_ind[k], col_ind[k]] = data[k]\"\"\n",
    "    \"\"\"\n",
    "    full = pd.concat([train[col], test[col]], axis=0)\n",
    "    full = full.fillna(-9999)\n",
    "    appencoder = LabelEncoder().fit(full)\n",
    "    train[col] = appencoder.transform(train[col])\n",
    "    test[col] = appencoder.transform(test[col])\n",
    "    nvalues = len(appencoder.classes_)\n",
    "\n",
    "    xtr = csr_matrix(\n",
    "        (np.ones(len(train)), (train.trainrow, train[col])),\n",
    "        shape=(train.shape[0], nvalues))\n",
    "\n",
    "    xte = csr_matrix(\n",
    "        (np.ones(len(test)), (test.testrow, test[col])),\n",
    "        shape=(test.shape[0], nvalues))\n",
    "    assert np.sum(xtr) == len(train)\n",
    "    assert np.sum(xte) == len(test)\n",
    "    return xtr, xte\n",
    "\n",
    "# Example:\n",
    "gatrain[\"trainrow\"] = np.arange(gatrain.shape[0])\n",
    "gatest[\"testrow\"] = np.arange(gatest.shape[0])\n",
    "\n",
    "gatrain['model'] = phone[\"device_model\"]\n",
    "gatest['model'] = phone[\"device_model\"]\n",
    "xtrain, xtest = get_sparse_data(gatrain, gatest, 'model')"
   ]
  },
  {
   "cell_type": "code",
   "execution_count": 57,
   "metadata": {},
   "outputs": [
    {
     "data": {
      "text/plain": [
       "<74645x1599 sparse matrix of type '<class 'numpy.float64'>'\n",
       "\twith 74645 stored elements in Compressed Sparse Row format>"
      ]
     },
     "execution_count": 57,
     "metadata": {},
     "output_type": "execute_result"
    }
   ],
   "source": [
    "xtrain"
   ]
  },
  {
   "cell_type": "markdown",
   "metadata": {},
   "source": [
    "### Now, using a grouped column"
   ]
  },
  {
   "cell_type": "code",
   "execution_count": 58,
   "metadata": {},
   "outputs": [
    {
     "name": "stdout",
     "output_type": "stream",
     "text": [
      "shape of apps in devices: (32473067, 4)\n",
      "   event_id               app_id  is_active            device_id\n",
      "0         2  5927333115845830913       True -6401643145415154744\n",
      "1         2 -5720078949152207372      False -6401643145415154744\n",
      "2         2 -1633887856876571208      False -6401643145415154744\n",
      "3         2  -653184325010919369       True -6401643145415154744\n",
      "4         2  8693964245073640147       True -6401643145415154744\n"
     ]
    }
   ],
   "source": [
    "def get_sparse_from_grouped(train, test, trans, col):\n",
    "    \"\"\" \n",
    "    Example:\n",
    "    Remember that there are many events for each device.\n",
    "    for each device I want to mark which event id was purchased with\n",
    "    I'll have as many event values columns as events are linked to devices    \n",
    "    \"\"\"\n",
    "    trans[col] = trans[col].fillna(-9999)\n",
    "    appencoder = LabelEncoder().fit(trans[col])\n",
    "    trans[col] = appencoder.transform(trans[col])\n",
    "    nvalues = len(appencoder.classes_)\n",
    "\n",
    "    aggtable = (\n",
    "        trans.groupby(['device_id', col])['device_id']\n",
    "        .agg(['count'])\n",
    "        .merge(train[['trainrow']], how='left', left_index=True, right_index=True)\n",
    "        .merge(test[['testrow']], how='left', left_index=True, right_index=True)\n",
    "        .reset_index()\n",
    "    )\n",
    "    temp = aggtable.dropna(subset=['trainrow'])\n",
    "    xtr = csr_matrix(\n",
    "        (np.ones(len(temp)).astype(float), (temp.trainrow, temp[col])),\n",
    "        shape=(train.shape[0], nvalues))\n",
    "\n",
    "    temp = aggtable.dropna(subset=['testrow'])\n",
    "    xte = csr_matrix(\n",
    "        (np.ones(len(temp)).astype(float), (temp.testrow, temp[col])),\n",
    "        shape=(test.shape[0], nvalues))\n",
    "    assert xtr.shape[0] == len(train)\n",
    "    assert xte.shape[0] == len(test)\n",
    "    return xtr, xte\n",
    "\n",
    "# Example: \n",
    "transactions = appevents.merge(\n",
    "    events[[\"device_id\"]], how=\"left\", left_on=\"event_id\", right_index=True\n",
    ")\n",
    "print('shape of apps in devices: {}'.format(transactions.shape))\n",
    "print(transactions.head())\n",
    "xtrain, xtest = get_sparse_from_grouped(gatrain, gatest, transactions, 'app_id')"
   ]
  },
  {
   "cell_type": "code",
   "execution_count": 20,
   "metadata": {},
   "outputs": [
    {
     "data": {
      "text/plain": [
       "<74645x19237 sparse matrix of type '<class 'numpy.float64'>'\n",
       "\twith 915632 stored elements in Compressed Sparse Row format>"
      ]
     },
     "execution_count": 20,
     "metadata": {},
     "output_type": "execute_result"
    }
   ],
   "source": [
    "xtrain"
   ]
  },
  {
   "cell_type": "code",
   "execution_count": 59,
   "metadata": {},
   "outputs": [
    {
     "data": {
      "text/plain": [
       "<112071x19237 sparse matrix of type '<class 'numpy.float64'>'\n",
       "\twith 1387337 stored elements in Compressed Sparse Row format>"
      ]
     },
     "execution_count": 59,
     "metadata": {},
     "output_type": "execute_result"
    }
   ],
   "source": [
    "xtest"
   ]
  },
  {
   "cell_type": "markdown",
   "metadata": {},
   "source": [
    "### Bag of brands and labels"
   ]
  },
  {
   "cell_type": "markdown",
   "metadata": {},
   "source": [
    "#### For each APP, we list all the labels"
   ]
  },
  {
   "cell_type": "code",
   "execution_count": 70,
   "metadata": {},
   "outputs": [],
   "source": [
    "app_lab = pd.read_csv(os.path.join(datadir,'app_labels.csv'))\n",
    "app_lab = app_lab.groupby(\"app_id\")[\"label_id\"].apply(\n",
    "    lambda x: \" \".join(str(s) for s in x)\n",
    ")"
   ]
  },
  {
   "cell_type": "code",
   "execution_count": 59,
   "metadata": {},
   "outputs": [
    {
     "data": {
      "text/plain": [
       "app_id\n",
       "-9223281467940916832                796 795 794 405\n",
       "-9222877069545393219                            135\n",
       "-9222785464897897681                812 795 794 405\n",
       "-9222198347540756780                810 795 794 405\n",
       "-9221970424041518544    714 704 548 813 795 794 405\n",
       "Name: label_id, dtype: object"
      ]
     },
     "execution_count": 59,
     "metadata": {},
     "output_type": "execute_result"
    }
   ],
   "source": [
    "app_lab.head()"
   ]
  },
  {
   "cell_type": "markdown",
   "metadata": {},
   "source": [
    "#### For each EVENT, list all labels"
   ]
  },
  {
   "cell_type": "code",
   "execution_count": 60,
   "metadata": {},
   "outputs": [],
   "source": [
    "appevents[\"app_lab\"] = appevents[\"app_id\"].map(app_lab)\n",
    "appevents = appevents.groupby(\"event_id\")[\"app_lab\"].apply(\n",
    "    lambda x: \" \".join(str(s) for s in x)\n",
    ")"
   ]
  },
  {
   "cell_type": "code",
   "execution_count": 61,
   "metadata": {},
   "outputs": [
    {
     "data": {
      "text/plain": [
       "event_id\n",
       "2     549 710 704 548 172 721 704 548 302 303 251 26...\n",
       "6     549 721 704 302 303 548 183 713 704 548 549 71...\n",
       "7     549 721 704 548 548 549 186 721 704 548 303 30...\n",
       "9     549 721 704 302 303 548 183 549 721 704 548 40...\n",
       "16    549 721 704 302 303 548 183 549 713 704 405 54...\n",
       "Name: app_lab, dtype: object"
      ]
     },
     "execution_count": 61,
     "metadata": {},
     "output_type": "execute_result"
    }
   ],
   "source": [
    "appevents.head()"
   ]
  },
  {
   "cell_type": "code",
   "execution_count": 62,
   "metadata": {},
   "outputs": [],
   "source": [
    "events[\"app_lab\"] = events.index.map(appevents)\n",
    "events = events.groupby(\"device_id\")[\"app_lab\"].apply(\n",
    "    lambda x: \" \".join(str(s) for s in x)\n",
    ")"
   ]
  },
  {
   "cell_type": "code",
   "execution_count": 63,
   "metadata": {},
   "outputs": [
    {
     "data": {
      "text/plain": [
       "device_id\n",
       "-9222956879900151005    959 960 548 1007 959 960 548 1007 959 960 548 ...\n",
       "-9222661944218806987    721 704 548 232 711 714 548 704 813 795 794 40...\n",
       "-9222399302879214035    549 710 704 303 318 306 302 548 843 840 169 27...\n",
       "-9221825537663503111    nan nan nan nan nan nan nan nan 1012 808 795 7...\n",
       "-9221767098072603291    549 710 704 548 172 721 704 548 302 303 713 70...\n",
       "Name: app_lab, dtype: object"
      ]
     },
     "execution_count": 63,
     "metadata": {},
     "output_type": "execute_result"
    }
   ],
   "source": [
    "events.head()"
   ]
  },
  {
   "cell_type": "markdown",
   "metadata": {},
   "source": [
    "#### Copy the values to train and test"
   ]
  },
  {
   "cell_type": "code",
   "execution_count": 64,
   "metadata": {},
   "outputs": [],
   "source": [
    "gatrain[\"app_lab\"] = gatrain.index.map(events)\n",
    "gatest[\"app_lab\"] = gatest.index.map(events)"
   ]
  },
  {
   "cell_type": "code",
   "execution_count": 65,
   "metadata": {},
   "outputs": [
    {
     "data": {
      "text/html": [
       "<div>\n",
       "<style scoped>\n",
       "    .dataframe tbody tr th:only-of-type {\n",
       "        vertical-align: middle;\n",
       "    }\n",
       "\n",
       "    .dataframe tbody tr th {\n",
       "        vertical-align: top;\n",
       "    }\n",
       "\n",
       "    .dataframe thead th {\n",
       "        text-align: right;\n",
       "    }\n",
       "</style>\n",
       "<table border=\"1\" class=\"dataframe\">\n",
       "  <thead>\n",
       "    <tr style=\"text-align: right;\">\n",
       "      <th></th>\n",
       "      <th>gender</th>\n",
       "      <th>age</th>\n",
       "      <th>group</th>\n",
       "      <th>app_lab</th>\n",
       "    </tr>\n",
       "    <tr>\n",
       "      <th>device_id</th>\n",
       "      <th></th>\n",
       "      <th></th>\n",
       "      <th></th>\n",
       "      <th></th>\n",
       "    </tr>\n",
       "  </thead>\n",
       "  <tbody>\n",
       "    <tr>\n",
       "      <th>-8076087639492063270</th>\n",
       "      <td>M</td>\n",
       "      <td>35</td>\n",
       "      <td>M32-38</td>\n",
       "      <td>NaN</td>\n",
       "    </tr>\n",
       "    <tr>\n",
       "      <th>-2897161552818060146</th>\n",
       "      <td>M</td>\n",
       "      <td>35</td>\n",
       "      <td>M32-38</td>\n",
       "      <td>NaN</td>\n",
       "    </tr>\n",
       "    <tr>\n",
       "      <th>-8260683887967679142</th>\n",
       "      <td>M</td>\n",
       "      <td>35</td>\n",
       "      <td>M32-38</td>\n",
       "      <td>713 704 548 713 704 548 163 158 551 552 555 55...</td>\n",
       "    </tr>\n",
       "    <tr>\n",
       "      <th>-4938849341048082022</th>\n",
       "      <td>M</td>\n",
       "      <td>30</td>\n",
       "      <td>M29-31</td>\n",
       "      <td>NaN</td>\n",
       "    </tr>\n",
       "    <tr>\n",
       "      <th>245133531816851882</th>\n",
       "      <td>M</td>\n",
       "      <td>30</td>\n",
       "      <td>M29-31</td>\n",
       "      <td>NaN</td>\n",
       "    </tr>\n",
       "    <tr>\n",
       "      <th>-1297074871525174196</th>\n",
       "      <td>F</td>\n",
       "      <td>24</td>\n",
       "      <td>F24-26</td>\n",
       "      <td>NaN</td>\n",
       "    </tr>\n",
       "    <tr>\n",
       "      <th>236877999787307864</th>\n",
       "      <td>M</td>\n",
       "      <td>36</td>\n",
       "      <td>M32-38</td>\n",
       "      <td>NaN</td>\n",
       "    </tr>\n",
       "    <tr>\n",
       "      <th>-8098239495777311881</th>\n",
       "      <td>M</td>\n",
       "      <td>38</td>\n",
       "      <td>M32-38</td>\n",
       "      <td>NaN</td>\n",
       "    </tr>\n",
       "    <tr>\n",
       "      <th>176515041953473526</th>\n",
       "      <td>M</td>\n",
       "      <td>33</td>\n",
       "      <td>M32-38</td>\n",
       "      <td>NaN</td>\n",
       "    </tr>\n",
       "    <tr>\n",
       "      <th>1596610250680140042</th>\n",
       "      <td>F</td>\n",
       "      <td>36</td>\n",
       "      <td>F33-42</td>\n",
       "      <td>NaN</td>\n",
       "    </tr>\n",
       "    <tr>\n",
       "      <th>9032155484127182494</th>\n",
       "      <td>M</td>\n",
       "      <td>31</td>\n",
       "      <td>M29-31</td>\n",
       "      <td>NaN</td>\n",
       "    </tr>\n",
       "    <tr>\n",
       "      <th>7477216237379271436</th>\n",
       "      <td>F</td>\n",
       "      <td>37</td>\n",
       "      <td>F33-42</td>\n",
       "      <td>1012 713 704 548 756 761 777 782 787 253 738 2...</td>\n",
       "    </tr>\n",
       "    <tr>\n",
       "      <th>2478205222798310601</th>\n",
       "      <td>F</td>\n",
       "      <td>28</td>\n",
       "      <td>F27-28</td>\n",
       "      <td>NaN</td>\n",
       "    </tr>\n",
       "    <tr>\n",
       "      <th>6352067998666467520</th>\n",
       "      <td>M</td>\n",
       "      <td>32</td>\n",
       "      <td>M32-38</td>\n",
       "      <td>549 721 704 302 303 548 183 713 704 548 549 71...</td>\n",
       "    </tr>\n",
       "    <tr>\n",
       "      <th>-7605360767281960867</th>\n",
       "      <td>M</td>\n",
       "      <td>48</td>\n",
       "      <td>M39+</td>\n",
       "      <td>NaN</td>\n",
       "    </tr>\n",
       "    <tr>\n",
       "      <th>1508636020748379883</th>\n",
       "      <td>F</td>\n",
       "      <td>28</td>\n",
       "      <td>F27-28</td>\n",
       "      <td>nan nan nan nan 549 713 704 548 237 710 704 87...</td>\n",
       "    </tr>\n",
       "    <tr>\n",
       "      <th>4380872794486415327</th>\n",
       "      <td>M</td>\n",
       "      <td>38</td>\n",
       "      <td>M32-38</td>\n",
       "      <td>NaN</td>\n",
       "    </tr>\n",
       "    <tr>\n",
       "      <th>-1039701474753771322</th>\n",
       "      <td>M</td>\n",
       "      <td>38</td>\n",
       "      <td>M32-38</td>\n",
       "      <td>NaN</td>\n",
       "    </tr>\n",
       "    <tr>\n",
       "      <th>-6876541075223249434</th>\n",
       "      <td>M</td>\n",
       "      <td>75</td>\n",
       "      <td>M39+</td>\n",
       "      <td>nan nan nan nan nan nan nan 549 710 704 548 17...</td>\n",
       "    </tr>\n",
       "    <tr>\n",
       "      <th>6287938418661076759</th>\n",
       "      <td>M</td>\n",
       "      <td>33</td>\n",
       "      <td>M32-38</td>\n",
       "      <td>NaN</td>\n",
       "    </tr>\n",
       "  </tbody>\n",
       "</table>\n",
       "</div>"
      ],
      "text/plain": [
       "                     gender  age   group  \\\n",
       "device_id                                  \n",
       "-8076087639492063270      M   35  M32-38   \n",
       "-2897161552818060146      M   35  M32-38   \n",
       "-8260683887967679142      M   35  M32-38   \n",
       "-4938849341048082022      M   30  M29-31   \n",
       " 245133531816851882       M   30  M29-31   \n",
       "-1297074871525174196      F   24  F24-26   \n",
       " 236877999787307864       M   36  M32-38   \n",
       "-8098239495777311881      M   38  M32-38   \n",
       " 176515041953473526       M   33  M32-38   \n",
       " 1596610250680140042      F   36  F33-42   \n",
       " 9032155484127182494      M   31  M29-31   \n",
       " 7477216237379271436      F   37  F33-42   \n",
       " 2478205222798310601      F   28  F27-28   \n",
       " 6352067998666467520      M   32  M32-38   \n",
       "-7605360767281960867      M   48    M39+   \n",
       " 1508636020748379883      F   28  F27-28   \n",
       " 4380872794486415327      M   38  M32-38   \n",
       "-1039701474753771322      M   38  M32-38   \n",
       "-6876541075223249434      M   75    M39+   \n",
       " 6287938418661076759      M   33  M32-38   \n",
       "\n",
       "                                                                app_lab  \n",
       "device_id                                                                \n",
       "-8076087639492063270                                                NaN  \n",
       "-2897161552818060146                                                NaN  \n",
       "-8260683887967679142  713 704 548 713 704 548 163 158 551 552 555 55...  \n",
       "-4938849341048082022                                                NaN  \n",
       " 245133531816851882                                                 NaN  \n",
       "-1297074871525174196                                                NaN  \n",
       " 236877999787307864                                                 NaN  \n",
       "-8098239495777311881                                                NaN  \n",
       " 176515041953473526                                                 NaN  \n",
       " 1596610250680140042                                                NaN  \n",
       " 9032155484127182494                                                NaN  \n",
       " 7477216237379271436  1012 713 704 548 756 761 777 782 787 253 738 2...  \n",
       " 2478205222798310601                                                NaN  \n",
       " 6352067998666467520  549 721 704 302 303 548 183 713 704 548 549 71...  \n",
       "-7605360767281960867                                                NaN  \n",
       " 1508636020748379883  nan nan nan nan 549 713 704 548 237 710 704 87...  \n",
       " 4380872794486415327                                                NaN  \n",
       "-1039701474753771322                                                NaN  \n",
       "-6876541075223249434  nan nan nan nan nan nan nan 549 710 704 548 17...  \n",
       " 6287938418661076759                                                NaN  "
      ]
     },
     "execution_count": 65,
     "metadata": {},
     "output_type": "execute_result"
    }
   ],
   "source": [
    "gatrain.head(20)"
   ]
  },
  {
   "cell_type": "code",
   "execution_count": 66,
   "metadata": {},
   "outputs": [],
   "source": [
    "gatrain[\"app_lab\"] = gatrain.index.map(events)\n",
    "gatest[\"app_lab\"] = gatest.index.map(events)"
   ]
  },
  {
   "cell_type": "code",
   "execution_count": 72,
   "metadata": {},
   "outputs": [],
   "source": [
    "gatrain['device_model'] = phone['device_model']\n",
    "gatrain['phone_brand'] = phone['phone_brand']\n",
    "\n",
    "gatest['device_model'] = phone['device_model']\n",
    "gatest['phone_brand'] = phone['phone_brand']"
   ]
  },
  {
   "cell_type": "markdown",
   "metadata": {},
   "source": [
    "#### Calculate TF-IDF sparse matrix"
   ]
  },
  {
   "cell_type": "code",
   "execution_count": 77,
   "metadata": {},
   "outputs": [],
   "source": [
    "from sklearn.feature_extraction.text import CountVectorizer, TfidfVectorizer\n",
    "\n",
    "def get_hash_data(train, test):\n",
    "    df = pd.concat((train, test), axis=0, ignore_index=True, sort=True)\n",
    "    split_len = len(train)\n",
    "    tfv = TfidfVectorizer(min_df=1)\n",
    "    df = (\n",
    "        df[[\"phone_brand\", \"device_model\", \"app_lab\"]]\n",
    "        .astype(np.str)\n",
    "        .apply(lambda x: \" \".join(s for s in x), axis=1)\n",
    "        .fillna(\"Missing\")\n",
    "    )\n",
    "    df_tfv = tfv.fit_transform(df)\n",
    "    train = df_tfv[:split_len, :]\n",
    "    test = df_tfv[split_len:, :]\n",
    "    return train, test\n",
    "\n",
    "train_bag, test_bag = get_hash_data(gatrain, gatest)"
   ]
  },
  {
   "cell_type": "code",
   "execution_count": 78,
   "metadata": {},
   "outputs": [
    {
     "data": {
      "text/plain": [
       "<74645x2045 sparse matrix of type '<class 'numpy.float64'>'\n",
       "\twith 1878613 stored elements in Compressed Sparse Row format>"
      ]
     },
     "execution_count": 78,
     "metadata": {},
     "output_type": "execute_result"
    }
   ],
   "source": [
    "train_bag"
   ]
  },
  {
   "cell_type": "code",
   "execution_count": 94,
   "metadata": {},
   "outputs": [
    {
     "data": {
      "text/plain": [
       "matrix([[0.03703429, 0.        , 0.        , 0.01039728, 0.02726156],\n",
       "        [0.        , 0.        , 0.        , 0.        , 0.        ],\n",
       "        [0.04779276, 0.        , 0.        , 0.036018  , 0.04560046],\n",
       "        [0.        , 0.        , 0.        , 0.        , 0.        ],\n",
       "        [0.        , 0.        , 0.        , 0.        , 0.        ],\n",
       "        [0.09440759, 0.04919609, 0.        , 0.0155441 , 0.0427943 ],\n",
       "        [0.        , 0.        , 0.        , 0.        , 0.        ],\n",
       "        [0.0167718 , 0.02767616, 0.        , 0.15740313, 0.03209961],\n",
       "        [0.        , 0.        , 0.        , 0.        , 0.        ],\n",
       "        [0.03622585, 0.        , 0.        , 0.11332637, 0.03466639]])"
      ]
     },
     "execution_count": 94,
     "metadata": {},
     "output_type": "execute_result"
    }
   ],
   "source": [
    "train_bag[210:220, 5:10].todense()"
   ]
  },
  {
   "cell_type": "markdown",
   "metadata": {},
   "source": [
    "## 3 .- Optimization Variant"
   ]
  },
  {
   "cell_type": "code",
   "execution_count": null,
   "metadata": {},
   "outputs": [],
   "source": []
  }
 ],
 "metadata": {
  "kernelspec": {
   "display_name": "Python 3",
   "language": "python",
   "name": "python3"
  },
  "language_info": {
   "codemirror_mode": {
    "name": "ipython",
    "version": 3
   },
   "file_extension": ".py",
   "mimetype": "text/x-python",
   "name": "python",
   "nbconvert_exporter": "python",
   "pygments_lexer": "ipython3",
   "version": "3.6.7"
  }
 },
 "nbformat": 4,
 "nbformat_minor": 2
}
