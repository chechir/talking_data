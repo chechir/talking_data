{
 "cells": [
  {
   "cell_type": "code",
   "execution_count": 1,
   "metadata": {},
   "outputs": [],
   "source": [
    "import os\n",
    "\n",
    "from matplotlib import pyplot as plt\n",
    "import seaborn as sns\n",
    "import pandas as pd\n",
    "import numpy as np\n",
    "\n",
    "DATADIR = \"./input\""
   ]
  },
  {
   "cell_type": "code",
   "execution_count": 2,
   "metadata": {},
   "outputs": [
    {
     "name": "stderr",
     "output_type": "stream",
     "text": [
      "/home/dragon/kaggle/talking_data/kaggle_days/venv/lib/python3.7/site-packages/numpy/lib/arraysetops.py:569: FutureWarning: elementwise comparison failed; returning scalar instead, but in the future will perform elementwise comparison\n",
      "  mask |= (ar1 == a)\n"
     ]
    },
    {
     "data": {
      "text/plain": [
       "(74645, 5)"
      ]
     },
     "execution_count": 2,
     "metadata": {},
     "output_type": "execute_result"
    }
   ],
   "source": [
    "df_train = pd.read_csv(\n",
    "    os.path.join(DATADIR, \"gender_age_train.csv\"), index_col=\"device_id\"\n",
    ")\n",
    "df_train['is_female'] = (df_train['gender'] == 'F').astype(int)\n",
    "df_events = pd.read_csv(os.path.join(DATADIR, 'events.csv'), index_col='event_id')\n",
    "df_train['has_events'] = np.in1d(df_train.index.values, df_events['device_id'].values)\n",
    "df_train.shape"
   ]
  },
  {
   "cell_type": "markdown",
   "metadata": {},
   "source": [
    "## Demographic groups"
   ]
  },
  {
   "cell_type": "code",
   "execution_count": 3,
   "metadata": {},
   "outputs": [
    {
     "data": {
      "text/html": [
       "<div>\n",
       "<style scoped>\n",
       "    .dataframe tbody tr th:only-of-type {\n",
       "        vertical-align: middle;\n",
       "    }\n",
       "\n",
       "    .dataframe tbody tr th {\n",
       "        vertical-align: top;\n",
       "    }\n",
       "\n",
       "    .dataframe thead tr th {\n",
       "        text-align: left;\n",
       "    }\n",
       "\n",
       "    .dataframe thead tr:last-of-type th {\n",
       "        text-align: right;\n",
       "    }\n",
       "</style>\n",
       "<table border=\"1\" class=\"dataframe\">\n",
       "  <thead>\n",
       "    <tr>\n",
       "      <th></th>\n",
       "      <th colspan=\"2\" halign=\"left\">age</th>\n",
       "      <th colspan=\"2\" halign=\"left\">is_female</th>\n",
       "    </tr>\n",
       "    <tr>\n",
       "      <th></th>\n",
       "      <th>mean</th>\n",
       "      <th>std</th>\n",
       "      <th>mean</th>\n",
       "      <th>count</th>\n",
       "    </tr>\n",
       "    <tr>\n",
       "      <th>group</th>\n",
       "      <th></th>\n",
       "      <th></th>\n",
       "      <th></th>\n",
       "      <th></th>\n",
       "    </tr>\n",
       "  </thead>\n",
       "  <tbody>\n",
       "    <tr>\n",
       "      <th>F23-</th>\n",
       "      <td>20.969109</td>\n",
       "      <td>1.746863</td>\n",
       "      <td>1</td>\n",
       "      <td>5050</td>\n",
       "    </tr>\n",
       "    <tr>\n",
       "      <th>F24-26</th>\n",
       "      <td>25.095465</td>\n",
       "      <td>0.817833</td>\n",
       "      <td>1</td>\n",
       "      <td>4190</td>\n",
       "    </tr>\n",
       "    <tr>\n",
       "      <th>F27-28</th>\n",
       "      <td>27.479474</td>\n",
       "      <td>0.499659</td>\n",
       "      <td>1</td>\n",
       "      <td>3118</td>\n",
       "    </tr>\n",
       "    <tr>\n",
       "      <th>F29-32</th>\n",
       "      <td>30.251296</td>\n",
       "      <td>1.111539</td>\n",
       "      <td>1</td>\n",
       "      <td>4628</td>\n",
       "    </tr>\n",
       "    <tr>\n",
       "      <th>F33-42</th>\n",
       "      <td>36.653659</td>\n",
       "      <td>2.855417</td>\n",
       "      <td>1</td>\n",
       "      <td>5561</td>\n",
       "    </tr>\n",
       "    <tr>\n",
       "      <th>F43+</th>\n",
       "      <td>51.622794</td>\n",
       "      <td>8.071190</td>\n",
       "      <td>1</td>\n",
       "      <td>4194</td>\n",
       "    </tr>\n",
       "    <tr>\n",
       "      <th>M22-</th>\n",
       "      <td>20.206597</td>\n",
       "      <td>1.707759</td>\n",
       "      <td>0</td>\n",
       "      <td>7488</td>\n",
       "    </tr>\n",
       "    <tr>\n",
       "      <th>M23-26</th>\n",
       "      <td>24.647163</td>\n",
       "      <td>1.120650</td>\n",
       "      <td>0</td>\n",
       "      <td>9605</td>\n",
       "    </tr>\n",
       "    <tr>\n",
       "      <th>M27-28</th>\n",
       "      <td>27.476033</td>\n",
       "      <td>0.499471</td>\n",
       "      <td>0</td>\n",
       "      <td>5445</td>\n",
       "    </tr>\n",
       "    <tr>\n",
       "      <th>M29-31</th>\n",
       "      <td>29.894103</td>\n",
       "      <td>0.803662</td>\n",
       "      <td>0</td>\n",
       "      <td>7309</td>\n",
       "    </tr>\n",
       "    <tr>\n",
       "      <th>M32-38</th>\n",
       "      <td>34.530709</td>\n",
       "      <td>1.932040</td>\n",
       "      <td>0</td>\n",
       "      <td>9476</td>\n",
       "    </tr>\n",
       "    <tr>\n",
       "      <th>M39+</th>\n",
       "      <td>47.104184</td>\n",
       "      <td>7.835465</td>\n",
       "      <td>0</td>\n",
       "      <td>8581</td>\n",
       "    </tr>\n",
       "  </tbody>\n",
       "</table>\n",
       "</div>"
      ],
      "text/plain": [
       "              age           is_female      \n",
       "             mean       std      mean count\n",
       "group                                      \n",
       "F23-    20.969109  1.746863         1  5050\n",
       "F24-26  25.095465  0.817833         1  4190\n",
       "F27-28  27.479474  0.499659         1  3118\n",
       "F29-32  30.251296  1.111539         1  4628\n",
       "F33-42  36.653659  2.855417         1  5561\n",
       "F43+    51.622794  8.071190         1  4194\n",
       "M22-    20.206597  1.707759         0  7488\n",
       "M23-26  24.647163  1.120650         0  9605\n",
       "M27-28  27.476033  0.499471         0  5445\n",
       "M29-31  29.894103  0.803662         0  7309\n",
       "M32-38  34.530709  1.932040         0  9476\n",
       "M39+    47.104184  7.835465         0  8581"
      ]
     },
     "execution_count": 3,
     "metadata": {},
     "output_type": "execute_result"
    }
   ],
   "source": [
    "df_train.groupby('group').agg({\"age\": [\"mean\", \"std\"], \"is_female\": [\"mean\", \"count\"]})"
   ]
  },
  {
   "cell_type": "code",
   "execution_count": 20,
   "metadata": {},
   "outputs": [
    {
     "name": "stdout",
     "output_type": "stream",
     "text": [
      "Proportion of devices with events: 0.3122647196731194\n"
     ]
    },
    {
     "data": {
      "image/png": "[encoded data removed]",
      "text/plain": [
       "<Figure size 360x360 with 1 Axes>"
      ]
     },
     "metadata": {},
     "output_type": "display_data"
    }
   ],
   "source": [
    "fig, ax = plt.subplots(1, 1, figsize=(5, 5))\n",
    "df_train['has_events'].value_counts().plot.pie(ax=ax, legend=False, fontsize=0, table=False)\n",
    "plt.axis('off')\n",
    "\n",
    "print('Proportion of devices with events: {}'.format(df_train['has_events'].mean()))"
   ]
  },
  {
   "cell_type": "code",
   "execution_count": 5,
   "metadata": {},
   "outputs": [
    {
     "data": {
      "image/png": "[encoded data removed]",
      "text/plain": [
       "<Figure size 864x504 with 1 Axes>"
      ]
     },
     "metadata": {
      "needs_background": "light"
     },
     "output_type": "display_data"
    }
   ],
   "source": [
    "fig, ax = plt.subplots(1, 1, figsize=(12,7))\n",
    "df = df_train.groupby('group').agg({\"age\": \"count\"}).reset_index()\n",
    "df.rename({\"age\": \"n_rows\"}, axis=1, inplace=True)\n",
    "sns.barplot(x=\"group\", y=\"n_rows\", data=df)\n",
    "# ax.set(title=\"Distribution of devices by demographic group\")\n",
    "ax.set_title(\"Distribution of devices by demographic group\", fontsize=20)\n",
    "ax.tick_params(axis=\"x\", labelsize=15)\n",
    "ax.tick_params(axis=\"y\", labelsize=15)\n",
    "for label in ax.get_xticklabels():\n",
    "  label.set_rotation(45)"
   ]
  },
  {
   "cell_type": "code",
   "execution_count": 6,
   "metadata": {},
   "outputs": [
    {
     "data": {
      "image/png": "[encoded data removed]",
      "text/plain": [
       "<Figure size 720x432 with 2 Axes>"
      ]
     },
     "metadata": {
      "needs_background": "light"
     },
     "output_type": "display_data"
    }
   ],
   "source": [
    "fig, axes = plt.subplots(1, 2, figsize=(10, 6))\n",
    "\n",
    "ax = axes[0]\n",
    "sns.boxplot(y=\"age\", x=\"gender\", data=df_train, ax=ax)\n",
    "\n",
    "ax.set_title(\"Dist. of age by Gender\", fontsize=15)\n",
    "ax.tick_params(axis=\"x\", labelsize=15)\n",
    "ax.tick_params(axis=\"y\", labelsize=15)\n",
    "\n",
    "ax = axes[1]\n",
    "sns.boxplot(y=\"age\", x=\"has_events\", data=df_train, ax=ax)\n",
    "\n",
    "ax.set_title(\"Dist. of age by 'with events'\", fontsize=15)\n",
    "ax.tick_params(axis=\"x\", labelsize=15)\n",
    "ax.tick_params(axis=\"y\", labelsize=15)\n",
    "\n",
    "fig.tight_layout()"
   ]
  },
  {
   "cell_type": "markdown",
   "metadata": {},
   "source": [
    "### Events with or without data"
   ]
  },
  {
   "cell_type": "code",
   "execution_count": 7,
   "metadata": {},
   "outputs": [
    {
     "data": {
      "text/html": [
       "<div>\n",
       "<style scoped>\n",
       "    .dataframe tbody tr th:only-of-type {\n",
       "        vertical-align: middle;\n",
       "    }\n",
       "\n",
       "    .dataframe tbody tr th {\n",
       "        vertical-align: top;\n",
       "    }\n",
       "\n",
       "    .dataframe thead th {\n",
       "        text-align: right;\n",
       "    }\n",
       "</style>\n",
       "<table border=\"1\" class=\"dataframe\">\n",
       "  <thead>\n",
       "    <tr style=\"text-align: right;\">\n",
       "      <th></th>\n",
       "      <th>has_events</th>\n",
       "      <th>gender</th>\n",
       "      <th>is_female</th>\n",
       "    </tr>\n",
       "  </thead>\n",
       "  <tbody>\n",
       "    <tr>\n",
       "      <th>0</th>\n",
       "      <td>False</td>\n",
       "      <td>F</td>\n",
       "      <td>18693</td>\n",
       "    </tr>\n",
       "    <tr>\n",
       "      <th>1</th>\n",
       "      <td>False</td>\n",
       "      <td>M</td>\n",
       "      <td>32643</td>\n",
       "    </tr>\n",
       "    <tr>\n",
       "      <th>2</th>\n",
       "      <td>True</td>\n",
       "      <td>F</td>\n",
       "      <td>8048</td>\n",
       "    </tr>\n",
       "    <tr>\n",
       "      <th>3</th>\n",
       "      <td>True</td>\n",
       "      <td>M</td>\n",
       "      <td>15261</td>\n",
       "    </tr>\n",
       "  </tbody>\n",
       "</table>\n",
       "</div>"
      ],
      "text/plain": [
       "   has_events gender  is_female\n",
       "0       False      F      18693\n",
       "1       False      M      32643\n",
       "2        True      F       8048\n",
       "3        True      M      15261"
      ]
     },
     "execution_count": 7,
     "metadata": {},
     "output_type": "execute_result"
    }
   ],
   "source": [
    "df_train.groupby(['has_events', 'gender']).agg({\"is_female\": \"count\"}).reset_index()"
   ]
  },
  {
   "cell_type": "code",
   "execution_count": 11,
   "metadata": {},
   "outputs": [
    {
     "name": "stdout",
     "output_type": "stream",
     "text": [
      "0.5726495726495726 ratio female/male in devices with events\n",
      "0.5273573160343359 ratio female/male in devices without events\n"
     ]
    },
    {
     "data": {
      "text/html": [
       "<div>\n",
       "<style scoped>\n",
       "    .dataframe tbody tr th:only-of-type {\n",
       "        vertical-align: middle;\n",
       "    }\n",
       "\n",
       "    .dataframe tbody tr th {\n",
       "        vertical-align: top;\n",
       "    }\n",
       "\n",
       "    .dataframe thead th {\n",
       "        text-align: right;\n",
       "    }\n",
       "</style>\n",
       "<table border=\"1\" class=\"dataframe\">\n",
       "  <thead>\n",
       "    <tr style=\"text-align: right;\">\n",
       "      <th></th>\n",
       "      <th>is_female</th>\n",
       "    </tr>\n",
       "  </thead>\n",
       "  <tbody>\n",
       "    <tr>\n",
       "      <th>0</th>\n",
       "      <td>0.250425</td>\n",
       "    </tr>\n",
       "    <tr>\n",
       "      <th>1</th>\n",
       "      <td>0.437310</td>\n",
       "    </tr>\n",
       "    <tr>\n",
       "      <th>2</th>\n",
       "      <td>0.107817</td>\n",
       "    </tr>\n",
       "    <tr>\n",
       "      <th>3</th>\n",
       "      <td>0.204448</td>\n",
       "    </tr>\n",
       "  </tbody>\n",
       "</table>\n",
       "</div>"
      ],
      "text/plain": [
       "   is_female\n",
       "0   0.250425\n",
       "1   0.437310\n",
       "2   0.107817\n",
       "3   0.204448"
      ]
     },
     "execution_count": 11,
     "metadata": {},
     "output_type": "execute_result"
    }
   ],
   "source": [
    "print(18693/32643, \"ratio female/male in devices with events\")\n",
    "print(8048/15261, \"ratio female/male in devices without events\")\n",
    "df = df_train.groupby(['has_events', 'gender']).agg({\"is_female\": \"count\"}).reset_index()\n",
    "cols = ['is_female']\n",
    "df[cols].div(df[cols].sum(axis=0), axis=1)"
   ]
  },
  {
   "cell_type": "code",
   "execution_count": null,
   "metadata": {},
   "outputs": [],
   "source": []
  }
 ],
 "metadata": {
  "kernelspec": {
   "display_name": "Python 3",
   "language": "python",
   "name": "python3"
  },
  "language_info": {
   "codemirror_mode": {
    "name": "ipython",
    "version": 3
   },
   "file_extension": ".py",
   "mimetype": "text/x-python",
   "name": "python",
   "nbconvert_exporter": "python",
   "pygments_lexer": "ipython3",
   "version": "3.7.3"
  }
 },
 "nbformat": 4,
 "nbformat_minor": 4
}
